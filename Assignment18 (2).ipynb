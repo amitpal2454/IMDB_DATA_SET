{
  "nbformat": 4,
  "nbformat_minor": 0,
  "metadata": {
    "colab": {
      "name": "Assignment18.ipynb",
      "provenance": [],
      "collapsed_sections": []
    },
    "kernelspec": {
      "name": "python3",
      "display_name": "Python 3"
    }
  },
  "cells": [
    {
      "cell_type": "code",
      "metadata": {
        "id": "KCBZEdoMhMXE"
      },
      "source": [
        "import pandas as pd\r\n",
        "import sqlite3\r\n",
        "conn=sqlite3.connect('/content/drive/MyDrive/3_SQL/Db-IMDB-Assignment.db')"
      ],
      "execution_count": 2,
      "outputs": []
    },
    {
      "cell_type": "code",
      "metadata": {
        "id": "EQjY82XYiPrY",
        "colab": {
          "base_uri": "https://localhost:8080/"
        },
        "outputId": "57d50b25-6551-4b77-d601-8a1ccd0ea5a3"
      },
      "source": [
        "table=pd.read_sql_query(\"SELECT NAME as 'Table_Name' FROM sqlite_master WHERE type='table'\",conn)\r\n",
        "tables = table[\"Table_Name\"].values.tolist()\r\n",
        "print(tables)"
      ],
      "execution_count": 3,
      "outputs": [
        {
          "output_type": "stream",
          "text": [
            "['Movie', 'Genre', 'Language', 'Country', 'Location', 'M_Location', 'M_Country', 'M_Language', 'M_Genre', 'Person', 'M_Producer', 'M_Director', 'M_Cast']\n"
          ],
          "name": "stdout"
        }
      ]
    },
    {
      "cell_type": "code",
      "metadata": {
        "colab": {
          "base_uri": "https://localhost:8080/",
          "height": 1000
        },
        "id": "E5pgcRLOjlfh",
        "outputId": "1774952b-5b91-4846-8e13-e4d49af98a27"
      },
      "source": [
        "for table in tables:\r\n",
        "    query = \"PRAGMA TABLE_INFO({})\".format(table)\r\n",
        "    schema = pd.read_sql_query(query,conn)\r\n",
        "    print(\"Schema of\",table)\r\n",
        "    display(schema)\r\n",
        "    print(\"-\"*100)\r\n",
        "    print(\"\\n\")"
      ],
      "execution_count": 4,
      "outputs": [
        {
          "output_type": "stream",
          "text": [
            "Schema of Movie\n"
          ],
          "name": "stdout"
        },
        {
          "output_type": "display_data",
          "data": {
            "text/html": [
              "<div>\n",
              "<style scoped>\n",
              "    .dataframe tbody tr th:only-of-type {\n",
              "        vertical-align: middle;\n",
              "    }\n",
              "\n",
              "    .dataframe tbody tr th {\n",
              "        vertical-align: top;\n",
              "    }\n",
              "\n",
              "    .dataframe thead th {\n",
              "        text-align: right;\n",
              "    }\n",
              "</style>\n",
              "<table border=\"1\" class=\"dataframe\">\n",
              "  <thead>\n",
              "    <tr style=\"text-align: right;\">\n",
              "      <th></th>\n",
              "      <th>cid</th>\n",
              "      <th>name</th>\n",
              "      <th>type</th>\n",
              "      <th>notnull</th>\n",
              "      <th>dflt_value</th>\n",
              "      <th>pk</th>\n",
              "    </tr>\n",
              "  </thead>\n",
              "  <tbody>\n",
              "    <tr>\n",
              "      <th>0</th>\n",
              "      <td>0</td>\n",
              "      <td>index</td>\n",
              "      <td>INTEGER</td>\n",
              "      <td>0</td>\n",
              "      <td>None</td>\n",
              "      <td>0</td>\n",
              "    </tr>\n",
              "    <tr>\n",
              "      <th>1</th>\n",
              "      <td>1</td>\n",
              "      <td>MID</td>\n",
              "      <td>TEXT</td>\n",
              "      <td>0</td>\n",
              "      <td>None</td>\n",
              "      <td>0</td>\n",
              "    </tr>\n",
              "    <tr>\n",
              "      <th>2</th>\n",
              "      <td>2</td>\n",
              "      <td>title</td>\n",
              "      <td>TEXT</td>\n",
              "      <td>0</td>\n",
              "      <td>None</td>\n",
              "      <td>0</td>\n",
              "    </tr>\n",
              "    <tr>\n",
              "      <th>3</th>\n",
              "      <td>3</td>\n",
              "      <td>year</td>\n",
              "      <td>TEXT</td>\n",
              "      <td>0</td>\n",
              "      <td>None</td>\n",
              "      <td>0</td>\n",
              "    </tr>\n",
              "    <tr>\n",
              "      <th>4</th>\n",
              "      <td>4</td>\n",
              "      <td>rating</td>\n",
              "      <td>REAL</td>\n",
              "      <td>0</td>\n",
              "      <td>None</td>\n",
              "      <td>0</td>\n",
              "    </tr>\n",
              "    <tr>\n",
              "      <th>5</th>\n",
              "      <td>5</td>\n",
              "      <td>num_votes</td>\n",
              "      <td>INTEGER</td>\n",
              "      <td>0</td>\n",
              "      <td>None</td>\n",
              "      <td>0</td>\n",
              "    </tr>\n",
              "  </tbody>\n",
              "</table>\n",
              "</div>"
            ],
            "text/plain": [
              "   cid       name     type  notnull dflt_value  pk\n",
              "0    0      index  INTEGER        0       None   0\n",
              "1    1        MID     TEXT        0       None   0\n",
              "2    2      title     TEXT        0       None   0\n",
              "3    3       year     TEXT        0       None   0\n",
              "4    4     rating     REAL        0       None   0\n",
              "5    5  num_votes  INTEGER        0       None   0"
            ]
          },
          "metadata": {
            "tags": []
          }
        },
        {
          "output_type": "stream",
          "text": [
            "----------------------------------------------------------------------------------------------------\n",
            "\n",
            "\n",
            "Schema of Genre\n"
          ],
          "name": "stdout"
        },
        {
          "output_type": "display_data",
          "data": {
            "text/html": [
              "<div>\n",
              "<style scoped>\n",
              "    .dataframe tbody tr th:only-of-type {\n",
              "        vertical-align: middle;\n",
              "    }\n",
              "\n",
              "    .dataframe tbody tr th {\n",
              "        vertical-align: top;\n",
              "    }\n",
              "\n",
              "    .dataframe thead th {\n",
              "        text-align: right;\n",
              "    }\n",
              "</style>\n",
              "<table border=\"1\" class=\"dataframe\">\n",
              "  <thead>\n",
              "    <tr style=\"text-align: right;\">\n",
              "      <th></th>\n",
              "      <th>cid</th>\n",
              "      <th>name</th>\n",
              "      <th>type</th>\n",
              "      <th>notnull</th>\n",
              "      <th>dflt_value</th>\n",
              "      <th>pk</th>\n",
              "    </tr>\n",
              "  </thead>\n",
              "  <tbody>\n",
              "    <tr>\n",
              "      <th>0</th>\n",
              "      <td>0</td>\n",
              "      <td>index</td>\n",
              "      <td>INTEGER</td>\n",
              "      <td>0</td>\n",
              "      <td>None</td>\n",
              "      <td>0</td>\n",
              "    </tr>\n",
              "    <tr>\n",
              "      <th>1</th>\n",
              "      <td>1</td>\n",
              "      <td>Name</td>\n",
              "      <td>TEXT</td>\n",
              "      <td>0</td>\n",
              "      <td>None</td>\n",
              "      <td>0</td>\n",
              "    </tr>\n",
              "    <tr>\n",
              "      <th>2</th>\n",
              "      <td>2</td>\n",
              "      <td>GID</td>\n",
              "      <td>INTEGER</td>\n",
              "      <td>0</td>\n",
              "      <td>None</td>\n",
              "      <td>0</td>\n",
              "    </tr>\n",
              "  </tbody>\n",
              "</table>\n",
              "</div>"
            ],
            "text/plain": [
              "   cid   name     type  notnull dflt_value  pk\n",
              "0    0  index  INTEGER        0       None   0\n",
              "1    1   Name     TEXT        0       None   0\n",
              "2    2    GID  INTEGER        0       None   0"
            ]
          },
          "metadata": {
            "tags": []
          }
        },
        {
          "output_type": "stream",
          "text": [
            "----------------------------------------------------------------------------------------------------\n",
            "\n",
            "\n",
            "Schema of Language\n"
          ],
          "name": "stdout"
        },
        {
          "output_type": "display_data",
          "data": {
            "text/html": [
              "<div>\n",
              "<style scoped>\n",
              "    .dataframe tbody tr th:only-of-type {\n",
              "        vertical-align: middle;\n",
              "    }\n",
              "\n",
              "    .dataframe tbody tr th {\n",
              "        vertical-align: top;\n",
              "    }\n",
              "\n",
              "    .dataframe thead th {\n",
              "        text-align: right;\n",
              "    }\n",
              "</style>\n",
              "<table border=\"1\" class=\"dataframe\">\n",
              "  <thead>\n",
              "    <tr style=\"text-align: right;\">\n",
              "      <th></th>\n",
              "      <th>cid</th>\n",
              "      <th>name</th>\n",
              "      <th>type</th>\n",
              "      <th>notnull</th>\n",
              "      <th>dflt_value</th>\n",
              "      <th>pk</th>\n",
              "    </tr>\n",
              "  </thead>\n",
              "  <tbody>\n",
              "    <tr>\n",
              "      <th>0</th>\n",
              "      <td>0</td>\n",
              "      <td>index</td>\n",
              "      <td>INTEGER</td>\n",
              "      <td>0</td>\n",
              "      <td>None</td>\n",
              "      <td>0</td>\n",
              "    </tr>\n",
              "    <tr>\n",
              "      <th>1</th>\n",
              "      <td>1</td>\n",
              "      <td>Name</td>\n",
              "      <td>TEXT</td>\n",
              "      <td>0</td>\n",
              "      <td>None</td>\n",
              "      <td>0</td>\n",
              "    </tr>\n",
              "    <tr>\n",
              "      <th>2</th>\n",
              "      <td>2</td>\n",
              "      <td>LAID</td>\n",
              "      <td>INTEGER</td>\n",
              "      <td>0</td>\n",
              "      <td>None</td>\n",
              "      <td>0</td>\n",
              "    </tr>\n",
              "  </tbody>\n",
              "</table>\n",
              "</div>"
            ],
            "text/plain": [
              "   cid   name     type  notnull dflt_value  pk\n",
              "0    0  index  INTEGER        0       None   0\n",
              "1    1   Name     TEXT        0       None   0\n",
              "2    2   LAID  INTEGER        0       None   0"
            ]
          },
          "metadata": {
            "tags": []
          }
        },
        {
          "output_type": "stream",
          "text": [
            "----------------------------------------------------------------------------------------------------\n",
            "\n",
            "\n",
            "Schema of Country\n"
          ],
          "name": "stdout"
        },
        {
          "output_type": "display_data",
          "data": {
            "text/html": [
              "<div>\n",
              "<style scoped>\n",
              "    .dataframe tbody tr th:only-of-type {\n",
              "        vertical-align: middle;\n",
              "    }\n",
              "\n",
              "    .dataframe tbody tr th {\n",
              "        vertical-align: top;\n",
              "    }\n",
              "\n",
              "    .dataframe thead th {\n",
              "        text-align: right;\n",
              "    }\n",
              "</style>\n",
              "<table border=\"1\" class=\"dataframe\">\n",
              "  <thead>\n",
              "    <tr style=\"text-align: right;\">\n",
              "      <th></th>\n",
              "      <th>cid</th>\n",
              "      <th>name</th>\n",
              "      <th>type</th>\n",
              "      <th>notnull</th>\n",
              "      <th>dflt_value</th>\n",
              "      <th>pk</th>\n",
              "    </tr>\n",
              "  </thead>\n",
              "  <tbody>\n",
              "    <tr>\n",
              "      <th>0</th>\n",
              "      <td>0</td>\n",
              "      <td>index</td>\n",
              "      <td>INTEGER</td>\n",
              "      <td>0</td>\n",
              "      <td>None</td>\n",
              "      <td>0</td>\n",
              "    </tr>\n",
              "    <tr>\n",
              "      <th>1</th>\n",
              "      <td>1</td>\n",
              "      <td>Name</td>\n",
              "      <td>TEXT</td>\n",
              "      <td>0</td>\n",
              "      <td>None</td>\n",
              "      <td>0</td>\n",
              "    </tr>\n",
              "    <tr>\n",
              "      <th>2</th>\n",
              "      <td>2</td>\n",
              "      <td>CID</td>\n",
              "      <td>INTEGER</td>\n",
              "      <td>0</td>\n",
              "      <td>None</td>\n",
              "      <td>0</td>\n",
              "    </tr>\n",
              "  </tbody>\n",
              "</table>\n",
              "</div>"
            ],
            "text/plain": [
              "   cid   name     type  notnull dflt_value  pk\n",
              "0    0  index  INTEGER        0       None   0\n",
              "1    1   Name     TEXT        0       None   0\n",
              "2    2    CID  INTEGER        0       None   0"
            ]
          },
          "metadata": {
            "tags": []
          }
        },
        {
          "output_type": "stream",
          "text": [
            "----------------------------------------------------------------------------------------------------\n",
            "\n",
            "\n",
            "Schema of Location\n"
          ],
          "name": "stdout"
        },
        {
          "output_type": "display_data",
          "data": {
            "text/html": [
              "<div>\n",
              "<style scoped>\n",
              "    .dataframe tbody tr th:only-of-type {\n",
              "        vertical-align: middle;\n",
              "    }\n",
              "\n",
              "    .dataframe tbody tr th {\n",
              "        vertical-align: top;\n",
              "    }\n",
              "\n",
              "    .dataframe thead th {\n",
              "        text-align: right;\n",
              "    }\n",
              "</style>\n",
              "<table border=\"1\" class=\"dataframe\">\n",
              "  <thead>\n",
              "    <tr style=\"text-align: right;\">\n",
              "      <th></th>\n",
              "      <th>cid</th>\n",
              "      <th>name</th>\n",
              "      <th>type</th>\n",
              "      <th>notnull</th>\n",
              "      <th>dflt_value</th>\n",
              "      <th>pk</th>\n",
              "    </tr>\n",
              "  </thead>\n",
              "  <tbody>\n",
              "    <tr>\n",
              "      <th>0</th>\n",
              "      <td>0</td>\n",
              "      <td>index</td>\n",
              "      <td>INTEGER</td>\n",
              "      <td>0</td>\n",
              "      <td>None</td>\n",
              "      <td>0</td>\n",
              "    </tr>\n",
              "    <tr>\n",
              "      <th>1</th>\n",
              "      <td>1</td>\n",
              "      <td>Name</td>\n",
              "      <td>TEXT</td>\n",
              "      <td>0</td>\n",
              "      <td>None</td>\n",
              "      <td>0</td>\n",
              "    </tr>\n",
              "    <tr>\n",
              "      <th>2</th>\n",
              "      <td>2</td>\n",
              "      <td>LID</td>\n",
              "      <td>INTEGER</td>\n",
              "      <td>0</td>\n",
              "      <td>None</td>\n",
              "      <td>0</td>\n",
              "    </tr>\n",
              "  </tbody>\n",
              "</table>\n",
              "</div>"
            ],
            "text/plain": [
              "   cid   name     type  notnull dflt_value  pk\n",
              "0    0  index  INTEGER        0       None   0\n",
              "1    1   Name     TEXT        0       None   0\n",
              "2    2    LID  INTEGER        0       None   0"
            ]
          },
          "metadata": {
            "tags": []
          }
        },
        {
          "output_type": "stream",
          "text": [
            "----------------------------------------------------------------------------------------------------\n",
            "\n",
            "\n",
            "Schema of M_Location\n"
          ],
          "name": "stdout"
        },
        {
          "output_type": "display_data",
          "data": {
            "text/html": [
              "<div>\n",
              "<style scoped>\n",
              "    .dataframe tbody tr th:only-of-type {\n",
              "        vertical-align: middle;\n",
              "    }\n",
              "\n",
              "    .dataframe tbody tr th {\n",
              "        vertical-align: top;\n",
              "    }\n",
              "\n",
              "    .dataframe thead th {\n",
              "        text-align: right;\n",
              "    }\n",
              "</style>\n",
              "<table border=\"1\" class=\"dataframe\">\n",
              "  <thead>\n",
              "    <tr style=\"text-align: right;\">\n",
              "      <th></th>\n",
              "      <th>cid</th>\n",
              "      <th>name</th>\n",
              "      <th>type</th>\n",
              "      <th>notnull</th>\n",
              "      <th>dflt_value</th>\n",
              "      <th>pk</th>\n",
              "    </tr>\n",
              "  </thead>\n",
              "  <tbody>\n",
              "    <tr>\n",
              "      <th>0</th>\n",
              "      <td>0</td>\n",
              "      <td>index</td>\n",
              "      <td>INTEGER</td>\n",
              "      <td>0</td>\n",
              "      <td>None</td>\n",
              "      <td>0</td>\n",
              "    </tr>\n",
              "    <tr>\n",
              "      <th>1</th>\n",
              "      <td>1</td>\n",
              "      <td>MID</td>\n",
              "      <td>TEXT</td>\n",
              "      <td>0</td>\n",
              "      <td>None</td>\n",
              "      <td>0</td>\n",
              "    </tr>\n",
              "    <tr>\n",
              "      <th>2</th>\n",
              "      <td>2</td>\n",
              "      <td>LID</td>\n",
              "      <td>REAL</td>\n",
              "      <td>0</td>\n",
              "      <td>None</td>\n",
              "      <td>0</td>\n",
              "    </tr>\n",
              "    <tr>\n",
              "      <th>3</th>\n",
              "      <td>3</td>\n",
              "      <td>ID</td>\n",
              "      <td>INTEGER</td>\n",
              "      <td>0</td>\n",
              "      <td>None</td>\n",
              "      <td>0</td>\n",
              "    </tr>\n",
              "  </tbody>\n",
              "</table>\n",
              "</div>"
            ],
            "text/plain": [
              "   cid   name     type  notnull dflt_value  pk\n",
              "0    0  index  INTEGER        0       None   0\n",
              "1    1    MID     TEXT        0       None   0\n",
              "2    2    LID     REAL        0       None   0\n",
              "3    3     ID  INTEGER        0       None   0"
            ]
          },
          "metadata": {
            "tags": []
          }
        },
        {
          "output_type": "stream",
          "text": [
            "----------------------------------------------------------------------------------------------------\n",
            "\n",
            "\n",
            "Schema of M_Country\n"
          ],
          "name": "stdout"
        },
        {
          "output_type": "display_data",
          "data": {
            "text/html": [
              "<div>\n",
              "<style scoped>\n",
              "    .dataframe tbody tr th:only-of-type {\n",
              "        vertical-align: middle;\n",
              "    }\n",
              "\n",
              "    .dataframe tbody tr th {\n",
              "        vertical-align: top;\n",
              "    }\n",
              "\n",
              "    .dataframe thead th {\n",
              "        text-align: right;\n",
              "    }\n",
              "</style>\n",
              "<table border=\"1\" class=\"dataframe\">\n",
              "  <thead>\n",
              "    <tr style=\"text-align: right;\">\n",
              "      <th></th>\n",
              "      <th>cid</th>\n",
              "      <th>name</th>\n",
              "      <th>type</th>\n",
              "      <th>notnull</th>\n",
              "      <th>dflt_value</th>\n",
              "      <th>pk</th>\n",
              "    </tr>\n",
              "  </thead>\n",
              "  <tbody>\n",
              "    <tr>\n",
              "      <th>0</th>\n",
              "      <td>0</td>\n",
              "      <td>index</td>\n",
              "      <td>INTEGER</td>\n",
              "      <td>0</td>\n",
              "      <td>None</td>\n",
              "      <td>0</td>\n",
              "    </tr>\n",
              "    <tr>\n",
              "      <th>1</th>\n",
              "      <td>1</td>\n",
              "      <td>MID</td>\n",
              "      <td>TEXT</td>\n",
              "      <td>0</td>\n",
              "      <td>None</td>\n",
              "      <td>0</td>\n",
              "    </tr>\n",
              "    <tr>\n",
              "      <th>2</th>\n",
              "      <td>2</td>\n",
              "      <td>CID</td>\n",
              "      <td>REAL</td>\n",
              "      <td>0</td>\n",
              "      <td>None</td>\n",
              "      <td>0</td>\n",
              "    </tr>\n",
              "    <tr>\n",
              "      <th>3</th>\n",
              "      <td>3</td>\n",
              "      <td>ID</td>\n",
              "      <td>INTEGER</td>\n",
              "      <td>0</td>\n",
              "      <td>None</td>\n",
              "      <td>0</td>\n",
              "    </tr>\n",
              "  </tbody>\n",
              "</table>\n",
              "</div>"
            ],
            "text/plain": [
              "   cid   name     type  notnull dflt_value  pk\n",
              "0    0  index  INTEGER        0       None   0\n",
              "1    1    MID     TEXT        0       None   0\n",
              "2    2    CID     REAL        0       None   0\n",
              "3    3     ID  INTEGER        0       None   0"
            ]
          },
          "metadata": {
            "tags": []
          }
        },
        {
          "output_type": "stream",
          "text": [
            "----------------------------------------------------------------------------------------------------\n",
            "\n",
            "\n",
            "Schema of M_Language\n"
          ],
          "name": "stdout"
        },
        {
          "output_type": "display_data",
          "data": {
            "text/html": [
              "<div>\n",
              "<style scoped>\n",
              "    .dataframe tbody tr th:only-of-type {\n",
              "        vertical-align: middle;\n",
              "    }\n",
              "\n",
              "    .dataframe tbody tr th {\n",
              "        vertical-align: top;\n",
              "    }\n",
              "\n",
              "    .dataframe thead th {\n",
              "        text-align: right;\n",
              "    }\n",
              "</style>\n",
              "<table border=\"1\" class=\"dataframe\">\n",
              "  <thead>\n",
              "    <tr style=\"text-align: right;\">\n",
              "      <th></th>\n",
              "      <th>cid</th>\n",
              "      <th>name</th>\n",
              "      <th>type</th>\n",
              "      <th>notnull</th>\n",
              "      <th>dflt_value</th>\n",
              "      <th>pk</th>\n",
              "    </tr>\n",
              "  </thead>\n",
              "  <tbody>\n",
              "    <tr>\n",
              "      <th>0</th>\n",
              "      <td>0</td>\n",
              "      <td>index</td>\n",
              "      <td>INTEGER</td>\n",
              "      <td>0</td>\n",
              "      <td>None</td>\n",
              "      <td>0</td>\n",
              "    </tr>\n",
              "    <tr>\n",
              "      <th>1</th>\n",
              "      <td>1</td>\n",
              "      <td>MID</td>\n",
              "      <td>TEXT</td>\n",
              "      <td>0</td>\n",
              "      <td>None</td>\n",
              "      <td>0</td>\n",
              "    </tr>\n",
              "    <tr>\n",
              "      <th>2</th>\n",
              "      <td>2</td>\n",
              "      <td>LAID</td>\n",
              "      <td>INTEGER</td>\n",
              "      <td>0</td>\n",
              "      <td>None</td>\n",
              "      <td>0</td>\n",
              "    </tr>\n",
              "    <tr>\n",
              "      <th>3</th>\n",
              "      <td>3</td>\n",
              "      <td>ID</td>\n",
              "      <td>INTEGER</td>\n",
              "      <td>0</td>\n",
              "      <td>None</td>\n",
              "      <td>0</td>\n",
              "    </tr>\n",
              "  </tbody>\n",
              "</table>\n",
              "</div>"
            ],
            "text/plain": [
              "   cid   name     type  notnull dflt_value  pk\n",
              "0    0  index  INTEGER        0       None   0\n",
              "1    1    MID     TEXT        0       None   0\n",
              "2    2   LAID  INTEGER        0       None   0\n",
              "3    3     ID  INTEGER        0       None   0"
            ]
          },
          "metadata": {
            "tags": []
          }
        },
        {
          "output_type": "stream",
          "text": [
            "----------------------------------------------------------------------------------------------------\n",
            "\n",
            "\n",
            "Schema of M_Genre\n"
          ],
          "name": "stdout"
        },
        {
          "output_type": "display_data",
          "data": {
            "text/html": [
              "<div>\n",
              "<style scoped>\n",
              "    .dataframe tbody tr th:only-of-type {\n",
              "        vertical-align: middle;\n",
              "    }\n",
              "\n",
              "    .dataframe tbody tr th {\n",
              "        vertical-align: top;\n",
              "    }\n",
              "\n",
              "    .dataframe thead th {\n",
              "        text-align: right;\n",
              "    }\n",
              "</style>\n",
              "<table border=\"1\" class=\"dataframe\">\n",
              "  <thead>\n",
              "    <tr style=\"text-align: right;\">\n",
              "      <th></th>\n",
              "      <th>cid</th>\n",
              "      <th>name</th>\n",
              "      <th>type</th>\n",
              "      <th>notnull</th>\n",
              "      <th>dflt_value</th>\n",
              "      <th>pk</th>\n",
              "    </tr>\n",
              "  </thead>\n",
              "  <tbody>\n",
              "    <tr>\n",
              "      <th>0</th>\n",
              "      <td>0</td>\n",
              "      <td>index</td>\n",
              "      <td>INTEGER</td>\n",
              "      <td>0</td>\n",
              "      <td>None</td>\n",
              "      <td>0</td>\n",
              "    </tr>\n",
              "    <tr>\n",
              "      <th>1</th>\n",
              "      <td>1</td>\n",
              "      <td>MID</td>\n",
              "      <td>TEXT</td>\n",
              "      <td>0</td>\n",
              "      <td>None</td>\n",
              "      <td>0</td>\n",
              "    </tr>\n",
              "    <tr>\n",
              "      <th>2</th>\n",
              "      <td>2</td>\n",
              "      <td>GID</td>\n",
              "      <td>INTEGER</td>\n",
              "      <td>0</td>\n",
              "      <td>None</td>\n",
              "      <td>0</td>\n",
              "    </tr>\n",
              "    <tr>\n",
              "      <th>3</th>\n",
              "      <td>3</td>\n",
              "      <td>ID</td>\n",
              "      <td>INTEGER</td>\n",
              "      <td>0</td>\n",
              "      <td>None</td>\n",
              "      <td>0</td>\n",
              "    </tr>\n",
              "  </tbody>\n",
              "</table>\n",
              "</div>"
            ],
            "text/plain": [
              "   cid   name     type  notnull dflt_value  pk\n",
              "0    0  index  INTEGER        0       None   0\n",
              "1    1    MID     TEXT        0       None   0\n",
              "2    2    GID  INTEGER        0       None   0\n",
              "3    3     ID  INTEGER        0       None   0"
            ]
          },
          "metadata": {
            "tags": []
          }
        },
        {
          "output_type": "stream",
          "text": [
            "----------------------------------------------------------------------------------------------------\n",
            "\n",
            "\n",
            "Schema of Person\n"
          ],
          "name": "stdout"
        },
        {
          "output_type": "display_data",
          "data": {
            "text/html": [
              "<div>\n",
              "<style scoped>\n",
              "    .dataframe tbody tr th:only-of-type {\n",
              "        vertical-align: middle;\n",
              "    }\n",
              "\n",
              "    .dataframe tbody tr th {\n",
              "        vertical-align: top;\n",
              "    }\n",
              "\n",
              "    .dataframe thead th {\n",
              "        text-align: right;\n",
              "    }\n",
              "</style>\n",
              "<table border=\"1\" class=\"dataframe\">\n",
              "  <thead>\n",
              "    <tr style=\"text-align: right;\">\n",
              "      <th></th>\n",
              "      <th>cid</th>\n",
              "      <th>name</th>\n",
              "      <th>type</th>\n",
              "      <th>notnull</th>\n",
              "      <th>dflt_value</th>\n",
              "      <th>pk</th>\n",
              "    </tr>\n",
              "  </thead>\n",
              "  <tbody>\n",
              "    <tr>\n",
              "      <th>0</th>\n",
              "      <td>0</td>\n",
              "      <td>index</td>\n",
              "      <td>INTEGER</td>\n",
              "      <td>0</td>\n",
              "      <td>None</td>\n",
              "      <td>0</td>\n",
              "    </tr>\n",
              "    <tr>\n",
              "      <th>1</th>\n",
              "      <td>1</td>\n",
              "      <td>PID</td>\n",
              "      <td>TEXT</td>\n",
              "      <td>0</td>\n",
              "      <td>None</td>\n",
              "      <td>0</td>\n",
              "    </tr>\n",
              "    <tr>\n",
              "      <th>2</th>\n",
              "      <td>2</td>\n",
              "      <td>Name</td>\n",
              "      <td>TEXT</td>\n",
              "      <td>0</td>\n",
              "      <td>None</td>\n",
              "      <td>0</td>\n",
              "    </tr>\n",
              "    <tr>\n",
              "      <th>3</th>\n",
              "      <td>3</td>\n",
              "      <td>Gender</td>\n",
              "      <td>TEXT</td>\n",
              "      <td>0</td>\n",
              "      <td>None</td>\n",
              "      <td>0</td>\n",
              "    </tr>\n",
              "  </tbody>\n",
              "</table>\n",
              "</div>"
            ],
            "text/plain": [
              "   cid    name     type  notnull dflt_value  pk\n",
              "0    0   index  INTEGER        0       None   0\n",
              "1    1     PID     TEXT        0       None   0\n",
              "2    2    Name     TEXT        0       None   0\n",
              "3    3  Gender     TEXT        0       None   0"
            ]
          },
          "metadata": {
            "tags": []
          }
        },
        {
          "output_type": "stream",
          "text": [
            "----------------------------------------------------------------------------------------------------\n",
            "\n",
            "\n",
            "Schema of M_Producer\n"
          ],
          "name": "stdout"
        },
        {
          "output_type": "display_data",
          "data": {
            "text/html": [
              "<div>\n",
              "<style scoped>\n",
              "    .dataframe tbody tr th:only-of-type {\n",
              "        vertical-align: middle;\n",
              "    }\n",
              "\n",
              "    .dataframe tbody tr th {\n",
              "        vertical-align: top;\n",
              "    }\n",
              "\n",
              "    .dataframe thead th {\n",
              "        text-align: right;\n",
              "    }\n",
              "</style>\n",
              "<table border=\"1\" class=\"dataframe\">\n",
              "  <thead>\n",
              "    <tr style=\"text-align: right;\">\n",
              "      <th></th>\n",
              "      <th>cid</th>\n",
              "      <th>name</th>\n",
              "      <th>type</th>\n",
              "      <th>notnull</th>\n",
              "      <th>dflt_value</th>\n",
              "      <th>pk</th>\n",
              "    </tr>\n",
              "  </thead>\n",
              "  <tbody>\n",
              "    <tr>\n",
              "      <th>0</th>\n",
              "      <td>0</td>\n",
              "      <td>index</td>\n",
              "      <td>INTEGER</td>\n",
              "      <td>0</td>\n",
              "      <td>None</td>\n",
              "      <td>0</td>\n",
              "    </tr>\n",
              "    <tr>\n",
              "      <th>1</th>\n",
              "      <td>1</td>\n",
              "      <td>MID</td>\n",
              "      <td>TEXT</td>\n",
              "      <td>0</td>\n",
              "      <td>None</td>\n",
              "      <td>0</td>\n",
              "    </tr>\n",
              "    <tr>\n",
              "      <th>2</th>\n",
              "      <td>2</td>\n",
              "      <td>PID</td>\n",
              "      <td>TEXT</td>\n",
              "      <td>0</td>\n",
              "      <td>None</td>\n",
              "      <td>0</td>\n",
              "    </tr>\n",
              "    <tr>\n",
              "      <th>3</th>\n",
              "      <td>3</td>\n",
              "      <td>ID</td>\n",
              "      <td>INTEGER</td>\n",
              "      <td>0</td>\n",
              "      <td>None</td>\n",
              "      <td>0</td>\n",
              "    </tr>\n",
              "  </tbody>\n",
              "</table>\n",
              "</div>"
            ],
            "text/plain": [
              "   cid   name     type  notnull dflt_value  pk\n",
              "0    0  index  INTEGER        0       None   0\n",
              "1    1    MID     TEXT        0       None   0\n",
              "2    2    PID     TEXT        0       None   0\n",
              "3    3     ID  INTEGER        0       None   0"
            ]
          },
          "metadata": {
            "tags": []
          }
        },
        {
          "output_type": "stream",
          "text": [
            "----------------------------------------------------------------------------------------------------\n",
            "\n",
            "\n",
            "Schema of M_Director\n"
          ],
          "name": "stdout"
        },
        {
          "output_type": "display_data",
          "data": {
            "text/html": [
              "<div>\n",
              "<style scoped>\n",
              "    .dataframe tbody tr th:only-of-type {\n",
              "        vertical-align: middle;\n",
              "    }\n",
              "\n",
              "    .dataframe tbody tr th {\n",
              "        vertical-align: top;\n",
              "    }\n",
              "\n",
              "    .dataframe thead th {\n",
              "        text-align: right;\n",
              "    }\n",
              "</style>\n",
              "<table border=\"1\" class=\"dataframe\">\n",
              "  <thead>\n",
              "    <tr style=\"text-align: right;\">\n",
              "      <th></th>\n",
              "      <th>cid</th>\n",
              "      <th>name</th>\n",
              "      <th>type</th>\n",
              "      <th>notnull</th>\n",
              "      <th>dflt_value</th>\n",
              "      <th>pk</th>\n",
              "    </tr>\n",
              "  </thead>\n",
              "  <tbody>\n",
              "    <tr>\n",
              "      <th>0</th>\n",
              "      <td>0</td>\n",
              "      <td>index</td>\n",
              "      <td>INTEGER</td>\n",
              "      <td>0</td>\n",
              "      <td>None</td>\n",
              "      <td>0</td>\n",
              "    </tr>\n",
              "    <tr>\n",
              "      <th>1</th>\n",
              "      <td>1</td>\n",
              "      <td>MID</td>\n",
              "      <td>TEXT</td>\n",
              "      <td>0</td>\n",
              "      <td>None</td>\n",
              "      <td>0</td>\n",
              "    </tr>\n",
              "    <tr>\n",
              "      <th>2</th>\n",
              "      <td>2</td>\n",
              "      <td>PID</td>\n",
              "      <td>TEXT</td>\n",
              "      <td>0</td>\n",
              "      <td>None</td>\n",
              "      <td>0</td>\n",
              "    </tr>\n",
              "    <tr>\n",
              "      <th>3</th>\n",
              "      <td>3</td>\n",
              "      <td>ID</td>\n",
              "      <td>INTEGER</td>\n",
              "      <td>0</td>\n",
              "      <td>None</td>\n",
              "      <td>0</td>\n",
              "    </tr>\n",
              "  </tbody>\n",
              "</table>\n",
              "</div>"
            ],
            "text/plain": [
              "   cid   name     type  notnull dflt_value  pk\n",
              "0    0  index  INTEGER        0       None   0\n",
              "1    1    MID     TEXT        0       None   0\n",
              "2    2    PID     TEXT        0       None   0\n",
              "3    3     ID  INTEGER        0       None   0"
            ]
          },
          "metadata": {
            "tags": []
          }
        },
        {
          "output_type": "stream",
          "text": [
            "----------------------------------------------------------------------------------------------------\n",
            "\n",
            "\n",
            "Schema of M_Cast\n"
          ],
          "name": "stdout"
        },
        {
          "output_type": "display_data",
          "data": {
            "text/html": [
              "<div>\n",
              "<style scoped>\n",
              "    .dataframe tbody tr th:only-of-type {\n",
              "        vertical-align: middle;\n",
              "    }\n",
              "\n",
              "    .dataframe tbody tr th {\n",
              "        vertical-align: top;\n",
              "    }\n",
              "\n",
              "    .dataframe thead th {\n",
              "        text-align: right;\n",
              "    }\n",
              "</style>\n",
              "<table border=\"1\" class=\"dataframe\">\n",
              "  <thead>\n",
              "    <tr style=\"text-align: right;\">\n",
              "      <th></th>\n",
              "      <th>cid</th>\n",
              "      <th>name</th>\n",
              "      <th>type</th>\n",
              "      <th>notnull</th>\n",
              "      <th>dflt_value</th>\n",
              "      <th>pk</th>\n",
              "    </tr>\n",
              "  </thead>\n",
              "  <tbody>\n",
              "    <tr>\n",
              "      <th>0</th>\n",
              "      <td>0</td>\n",
              "      <td>index</td>\n",
              "      <td>INTEGER</td>\n",
              "      <td>0</td>\n",
              "      <td>None</td>\n",
              "      <td>0</td>\n",
              "    </tr>\n",
              "    <tr>\n",
              "      <th>1</th>\n",
              "      <td>1</td>\n",
              "      <td>MID</td>\n",
              "      <td>TEXT</td>\n",
              "      <td>0</td>\n",
              "      <td>None</td>\n",
              "      <td>0</td>\n",
              "    </tr>\n",
              "    <tr>\n",
              "      <th>2</th>\n",
              "      <td>2</td>\n",
              "      <td>PID</td>\n",
              "      <td>TEXT</td>\n",
              "      <td>0</td>\n",
              "      <td>None</td>\n",
              "      <td>0</td>\n",
              "    </tr>\n",
              "    <tr>\n",
              "      <th>3</th>\n",
              "      <td>3</td>\n",
              "      <td>ID</td>\n",
              "      <td>INTEGER</td>\n",
              "      <td>0</td>\n",
              "      <td>None</td>\n",
              "      <td>0</td>\n",
              "    </tr>\n",
              "  </tbody>\n",
              "</table>\n",
              "</div>"
            ],
            "text/plain": [
              "   cid   name     type  notnull dflt_value  pk\n",
              "0    0  index  INTEGER        0       None   0\n",
              "1    1    MID     TEXT        0       None   0\n",
              "2    2    PID     TEXT        0       None   0\n",
              "3    3     ID  INTEGER        0       None   0"
            ]
          },
          "metadata": {
            "tags": []
          }
        },
        {
          "output_type": "stream",
          "text": [
            "----------------------------------------------------------------------------------------------------\n",
            "\n",
            "\n"
          ],
          "name": "stdout"
        }
      ]
    },
    {
      "cell_type": "markdown",
      "metadata": {
        "id": "L7tGdO4bWDiC"
      },
      "source": [
        "####Q1.List all the directors who directed a 'Comedy' movie in a leap year. (You need to check that the genre is 'Comedy’ and year is a leap year) Your query should return director name, the movie name, and the year."
      ]
    },
    {
      "cell_type": "code",
      "metadata": {
        "colab": {
          "base_uri": "https://localhost:8080/"
        },
        "id": "xJE8pcCXarz7",
        "outputId": "e756129b-9e04-4395-8e14-a10ad6ad9e7c"
      },
      "source": [
        "query=\"\"\"SELECT Name,title,year FROM (SELECT * FROM Person JOIN M_Director ON Person.PID=M_Director.PID JOIN Movie ON Movie.MID=M_Director.MID) WHERE RTRIM(MID) IN (SELECT MID FROM (SELECT * FROM M_Genre JOIN Genre ON M_Genre.GID=Genre.GID ) WHERE RTRIM(Name) ='Comedy') AND (year%4==0 AND (year%100!=0))\"\"\"\r\n",
        "df=pd.read_sql_query(query,conn)\r\n",
        "print(df)"
      ],
      "execution_count": 5,
      "outputs": [
        {
          "output_type": "stream",
          "text": [
            "                      Name                             title  year\n",
            "0             Milap Zaveri                        Mastizaade  2016\n",
            "1             Umesh Ghadge              Kyaa Kool Hain Hum 3  2016\n",
            "2            Sameer Sharma      Luv Shuv Tey Chicken Khurana  2012\n",
            "3           Sanjeev Sharma                     Saat Uchakkey  2016\n",
            "4             Nitin Kakkar                        Filmistaan  2012\n",
            "5        Krishnadev Yagnik                    Days of Tafree  2016\n",
            "6          Abhishek Sharma     Tere Bin Laden: Dead Or Alive  2016\n",
            "7             Mahesh Bhatt                   Papa Kahte Hain  1996\n",
            "8             Sachin Yardi          Kyaa Super Kool Hain Hum  2012\n",
            "9                   Sachin              Navra Mazha Navsacha  2004\n",
            "10            Kawal Sharma                         Maalamaal  1988\n",
            "11             Aditya Datt                 Will You Marry Me  2012\n",
            "12          Rajnish Thakur  Mere Dost Picture Abhi Baaki Hai  2012\n",
            "13            Karan Razdan               Mr Bhatti on Chutti  2012\n",
            "14      Jagdish Rajpurohit                            Bumboo  2012\n",
            "15             Suhas Kadav         Motu Patlu: King of Kings  2016\n",
            "16        Vickrant Mahajan                     Challo Driver  2012\n",
            "17               Bhagyaraj                       Mr. Bechara  1996\n",
            "18            Rakesh Mehta              Life Ki Toh Lag Gayi  2012\n",
            "19            Anand Balraj          Daal Mein Kuch Kaala Hai  2012\n",
            "20            Govind Menon                 Kis Kis Ki Kismat  2004\n",
            "21         Pankaj Parashar                    Ab Ayega Mazaa  1984\n",
            "22            Jabbar Patel                  Ek Hota Vidushak  1992\n",
            "23       Srinivas Bhashyam                      Paisa Vasool  2004\n",
            "24             Raj Kaushal                  Shaadi Ka Laddoo  2004\n",
            "25   Siddharth Anand Kumar                       Let's Enjoy  2004\n"
          ],
          "name": "stdout"
        }
      ]
    },
    {
      "cell_type": "markdown",
      "metadata": {
        "id": "o1FUdfCP_S-E"
      },
      "source": [
        "####Q2:List the names of all the actors who played in the movie 'Anand' (1971)"
      ]
    },
    {
      "cell_type": "code",
      "metadata": {
        "colab": {
          "base_uri": "https://localhost:8080/"
        },
        "id": "OdtcnhnFynrg",
        "outputId": "68df1241-393b-486f-e6f1-9c7e6d81c81b"
      },
      "source": [
        "aq=\"\"\"SELECT Name FROM Person WHERE PID IN \r\n",
        "            (SELECT LTRIM(PID) FROM M_Cast WHERE MID IN \r\n",
        "                   (SELECT MID FROM Movie WHERE title== 'Anand')\r\n",
        "            )\"\"\"\r\n",
        "df23=pd.read_sql_query(aq,conn)\r\n",
        "print(df23)"
      ],
      "execution_count": 6,
      "outputs": [
        {
          "output_type": "stream",
          "text": [
            "                 Name\n",
            "0    Amitabh Bachchan\n",
            "1       Rajesh Khanna\n",
            "2       Sumita Sanyal\n",
            "3          Ramesh Deo\n",
            "4           Seema Deo\n",
            "5      Asit Kumar Sen\n",
            "6          Dev Kishan\n",
            "7        Atam Prakash\n",
            "8       Lalita Kumari\n",
            "9              Savita\n",
            "10     Brahm Bhardwaj\n",
            "11       Gurnam Singh\n",
            "12       Lalita Pawar\n",
            "13        Durga Khote\n",
            "14         Dara Singh\n",
            "15      Johnny Walker\n",
            "16          Moolchand\n"
          ],
          "name": "stdout"
        }
      ]
    },
    {
      "cell_type": "markdown",
      "metadata": {
        "id": "9ZudgYvmBFlI"
      },
      "source": [
        "####Q3.List all the actors who acted in a film before 1970 and in a film after 1990. "
      ]
    },
    {
      "cell_type": "code",
      "metadata": {
        "id": "N5CY3tG5_o00",
        "colab": {
          "base_uri": "https://localhost:8080/"
        },
        "outputId": "80b83d48-8355-422b-f62f-4cc56f103c1d"
      },
      "source": [
        "q=\"\"\" select * from (Select DISTINCT(p.Name) from Person p \r\n",
        "      JOIN M_cast mc ON (p.PID)=TRIM(mc.PID)\r\n",
        "      JOIN Movie m ON (m.MID)=TRIM(mc.MID)\r\n",
        "      WHERE CAST(SUBSTR(TRIM(m.year),-4) AS Integer)<1970) before\r\n",
        "      JOIN\r\n",
        "      (Select DISTINCT (p.Name) from Person p \r\n",
        "      JOIN M_cast mc ON (p.PID)=TRIM(mc.PID)\r\n",
        "      JOIN Movie m ON (m.MID)=TRIM(mc.MID)\r\n",
        "      WHERE CAST(SUBSTR(TRIM(m.year),-4) AS Integer)>1990) after\r\n",
        "      ON (before.Name)=(after.Name)\"\"\"\r\n",
        "df=pd.read_sql_query(q,conn)\r\n",
        "print(df)"
      ],
      "execution_count": 7,
      "outputs": [
        {
          "output_type": "stream",
          "text": [
            "                Name             Name\n",
            "0     Waheeda Rehman   Waheeda Rehman\n",
            "1      Johnny Walker    Johnny Walker\n",
            "2              Veena            Veena\n",
            "3            Nilofer          Nilofer\n",
            "4            Mehmood          Mehmood\n",
            "..               ...              ...\n",
            "419           Sunita           Sunita\n",
            "420         Rajkumar         Rajkumar\n",
            "421          Lakshmi          Lakshmi\n",
            "422            Rekha            Rekha\n",
            "423            Iqbal            Iqbal\n",
            "\n",
            "[424 rows x 2 columns]\n"
          ],
          "name": "stdout"
        }
      ]
    },
    {
      "cell_type": "code",
      "metadata": {
        "colab": {
          "base_uri": "https://localhost:8080/"
        },
        "id": "WI88owhw9VOB",
        "outputId": "8cbfa70f-8690-48ab-d287-62ae53e2bce6"
      },
      "source": [
        "q=\"\"\" Select p.Name from Person p \r\n",
        "      JOIN M_cast mc ON (p.PID)=TRIM(mc.PID)\r\n",
        "      JOIN Movie m ON (m.MID)=TRIM(mc.MID)\r\n",
        "      WHERE CAST(SUBSTR(TRIM(m.year),-4) AS INTEGER)>1990\"\"\"\r\n",
        "df=pd.read_sql_query(q,conn)\r\n",
        "print(df)\r\n",
        "q=\"\"\" Select p.Name from Person p \r\n",
        "      JOIN M_cast mc ON (p.PID)=TRIM(mc.PID)\r\n",
        "      JOIN Movie m ON (m.MID)=TRIM(mc.MID)\r\n",
        "      WHERE CAST(SUBSTR(TRIM(m.year),-4) AS INTEGER)<1970\"\"\"\r\n",
        "df=pd.read_sql_query(q,conn)\r\n",
        "print(df)\r\n"
      ],
      "execution_count": 8,
      "outputs": [
        {
          "output_type": "stream",
          "text": [
            "                        Name\n",
            "0             Christian Bale\n",
            "1             Cate Blanchett\n",
            "2       Benedict Cumberbatch\n",
            "3              Naomie Harris\n",
            "4                Andy Serkis\n",
            "...                      ...\n",
            "62565           Yunus Parvez\n",
            "62566           Johnny Lever\n",
            "62567             Ishrat Ali\n",
            "62568           Sudhir Dalvi\n",
            "62569          Bharat Kapoor\n",
            "\n",
            "[62570 rows x 1 columns]\n",
            "                 Name\n",
            "0      Michael Rennie\n",
            "1       Patricia Neal\n",
            "2        Hugh Marlowe\n",
            "3           Sam Jaffe\n",
            "4          Billy Gray\n",
            "...               ...\n",
            "4937         Rajkumar\n",
            "4938   Sabitha Perara\n",
            "4939          Lakshmi\n",
            "4940            Rekha\n",
            "4941            Iqbal\n",
            "\n",
            "[4942 rows x 1 columns]\n"
          ],
          "name": "stdout"
        }
      ]
    },
    {
      "cell_type": "markdown",
      "metadata": {
        "id": "CXs89d-rB7Cy"
      },
      "source": [
        "####Q4.List all directors who directed 10 movies or more, in descending order of the number of movies they directed. Return the directors' names and the number of movies each of them directed."
      ]
    },
    {
      "cell_type": "code",
      "metadata": {
        "colab": {
          "base_uri": "https://localhost:8080/"
        },
        "id": "kGujBdbe_Wj5",
        "outputId": "050c0858-49e2-484a-eeb9-e901eb06e42b"
      },
      "source": [
        "aq=\"\"\"SELECT Name,COUNT(MID) movie_count FROM ( SELECT * FROM Person m JOIN M_Director g ON m.PID=G.PID) GROUP BY PID HAVING movie_count>=10 ORDER BY movie_count DESC\"\"\"\r\n",
        "df23=pd.read_sql_query(aq,conn)\r\n",
        "print(df23)"
      ],
      "execution_count": null,
      "outputs": [
        {
          "output_type": "stream",
          "text": [
            "                         Name  movie_count\n",
            "0                David Dhawan           39\n",
            "1                Mahesh Bhatt           35\n",
            "2                Priyadarshan           30\n",
            "3             Ram Gopal Varma           30\n",
            "4                Vikram Bhatt           29\n",
            "5        Hrishikesh Mukherjee           27\n",
            "6                 Yash Chopra           21\n",
            "7             Basu Chatterjee           19\n",
            "8              Shakti Samanta           19\n",
            "9                Subhash Ghai           18\n",
            "10              Shyam Benegal           17\n",
            "11   Abbas Alibhai Burmawalla           17\n",
            "12          Rama Rao Tatineni           17\n",
            "13             Manmohan Desai           16\n",
            "14                     Gulzar           16\n",
            "15               Raj N. Sippy           16\n",
            "16                 Raj Kanwar           15\n",
            "17           Mahesh Manjrekar           15\n",
            "18                Indra Kumar           14\n",
            "19                 Raj Khosla           14\n",
            "20               Rahul Rawail           14\n",
            "21          Rajkumar Santoshi           14\n",
            "22              Rakesh Roshan           13\n",
            "23                  Dev Anand           13\n",
            "24                Vijay Anand           13\n",
            "25               Harry Baweja           13\n",
            "26             Anurag Kashyap           13\n",
            "27   Ananth Narayan Mahadevan           13\n",
            "28         K. Raghavendra Rao           13\n",
            "29               Anees Bazmee           12\n",
            "30               Guddu Dhanoa           12\n",
            "31                Prakash Jha           12\n",
            "32             Satish Kaushik           12\n",
            "33            Nagesh Kukunoor           12\n",
            "34              Prakash Mehra           12\n",
            "35                Umesh Mehra           12\n",
            "36                Anil Sharma           12\n",
            "37          Madhur Bhandarkar           12\n",
            "38               Rohit Shetty           12\n",
            "39         Pramod Chakravorty           11\n",
            "40               Sanjay Gupta           11\n",
            "41              Nasir Hussain           11\n",
            "42                Ketan Mehta           11\n",
            "43            Govind Nihalani           11\n",
            "44                 Mohit Suri           11\n",
            "45                 Raj Kapoor           10\n",
            "46                 K. Bapaiah           10\n",
            "47            Vishal Bhardwaj           10\n",
            "48                 N. Chandra           10\n",
            "49           Tigmanshu Dhulia           10\n",
            "50                 J.P. Dutta           10\n",
            "51                Mehul Kumar           10\n",
            "52               Hansal Mehta           10\n",
            "53              Sudhir Mishra           10\n",
            "54        K. Muralimohana Rao           10\n",
            "55            Pankaj Parashar           10\n",
            "56              J. Om Prakash           10\n",
            "57                  Bimal Roy           10\n"
          ],
          "name": "stdout"
        }
      ]
    },
    {
      "cell_type": "markdown",
      "metadata": {
        "id": "XNEJGS061tEP"
      },
      "source": [
        "####5.A) For each year, count the number of movies in that year that had only female actors."
      ]
    },
    {
      "cell_type": "code",
      "metadata": {
        "colab": {
          "base_uri": "https://localhost:8080/"
        },
        "id": "oQLiVGQ2CmgP",
        "outputId": "52ea548d-e0b6-46f6-cfc9-50f69db66b49"
      },
      "source": [
        "q=\"\"\"SELECT  CAST(SUBSTR(m.year,-4) AS Integer) year,COUNT(m.MID) movie_only_female_character\r\n",
        "        FROM Movie m\r\n",
        "        JOIN\r\n",
        "        (SELECT DISTINCT MID FROM M_Cast WHERE MID NOT IN\r\n",
        "        (SELECT MID FROM M_Cast MC  \r\n",
        "         JOIN Person p ON p.PID=TRIM(MC.PID)\r\n",
        "         WHERE TRIM(p.Gender)='Male')) fem\r\n",
        "        ON Fem.MID=m.MID\r\n",
        "        GROUP BY CAST(SUBSTR(m.year,-4) AS Integer)\r\n",
        "        \"\"\"\r\n",
        "df=pd.read_sql_query(q,conn)\r\n",
        "print(df)      "
      ],
      "execution_count": 14,
      "outputs": [
        {
          "output_type": "stream",
          "text": [
            "   year  movie_only_female_character\n",
            "0  1939                            1\n",
            "1  1999                            1\n",
            "2  2000                            1\n",
            "3  2018                            1\n"
          ],
          "name": "stdout"
        }
      ]
    },
    {
      "cell_type": "markdown",
      "metadata": {
        "id": "Cg9GIo7O4NiB"
      },
      "source": [
        "####5 B) Now include a small change: report for each year the percentage of movies in that year with only female actors, and the total number of movies made that year. For example, one answer will be: 1990 31.81 13522 meaning that in 1990 there were 13,522 movies, and 31.81% had only female actors.  "
      ]
    },
    {
      "cell_type": "code",
      "metadata": {
        "colab": {
          "base_uri": "https://localhost:8080/"
        },
        "id": "7YoouEU21xdZ",
        "outputId": "ff5c0c36-1e28-48b5-f157-575f30139b25"
      },
      "source": [
        "q=\"\"\"SELECT tm.year,total_movie,movie_only_female_character, CAST(movie_only_female_character AS Float)/CAST(total_movie AS Float) PERCENTAGE\r\n",
        "    FROM \r\n",
        "      (SELECT  CAST(SUBSTR(m.year,-4) AS Integer) year,COUNT(m.MID) movie_only_female_character\r\n",
        "        FROM Movie m\r\n",
        "        JOIN\r\n",
        "        (SELECT DISTINCT MID FROM M_Cast WHERE MID NOT IN\r\n",
        "        (SELECT MID FROM M_Cast MC  \r\n",
        "         JOIN Person p ON p.PID=TRIM(MC.PID)\r\n",
        "         WHERE TRIM(p.Gender)='Male')) fem\r\n",
        "        ON Fem.MID=m.MID\r\n",
        "        GROUP BY CAST(SUBSTR(m.year,-4) AS Integer)) female\r\n",
        "        JOIN \r\n",
        "        (SELECT year,COUNT(MID) total_movie FROM Movie GROUP BY year ) tm\r\n",
        "        ON female.year=tm.year\"\"\"\r\n",
        "df=pd.read_sql_query(q,conn)\r\n",
        "print(df)"
      ],
      "execution_count": 45,
      "outputs": [
        {
          "output_type": "stream",
          "text": [
            "   year  total_movie  movie_only_female_character  PERCENTAGE\n",
            "0  1939            2                            1    0.500000\n",
            "1  1999           66                            1    0.015152\n",
            "2  2000           64                            1    0.015625\n",
            "3  2018           93                            1    0.010753\n"
          ],
          "name": "stdout"
        }
      ]
    },
    {
      "cell_type": "markdown",
      "metadata": {
        "id": "Mma23jfy1Lmt"
      },
      "source": [
        "####6.Find the film(s) with the largest cast. Return the movie title and the size of the cast. By \"cast  size\" we mean the number of distinct actors that played in that movie: if an actor played multiple roles, or if it simply occurs multiple times in casts, we still count her/him only once."
      ]
    },
    {
      "cell_type": "code",
      "metadata": {
        "colab": {
          "base_uri": "https://localhost:8080/"
        },
        "id": "dtZXb_y1_L1w",
        "outputId": "2190da4a-db6b-47b6-a8e4-ec266d33426b"
      },
      "source": [
        "q=\"\"\"SELECT title,MAX(cast_size) FROM (SELECT title, COUNT(PID) cast_size FROM (SELECT * FROM M_Cast JOIN Movie ON M_Cast.MID=Movie.MID) GROUP BY title ORDER BY cast_size DESC)\"\"\"\r\n",
        "df=pd.read_sql_query(q,conn)\r\n",
        "print(df)"
      ],
      "execution_count": null,
      "outputs": [
        {
          "output_type": "stream",
          "text": [
            "           title  MAX(cast_size)\n",
            "0  Ocean's Eight             238\n"
          ],
          "name": "stdout"
        }
      ]
    },
    {
      "cell_type": "markdown",
      "metadata": {
        "id": "py9vYDnT6oN5"
      },
      "source": [
        "####7. A decade is a sequence of 10 consecutive years. For example, say in your database you have movie information starting from 1965. Then the first decade is 1965, 1966, ..., 1974; the second one is 1967, 1968, ..., 1976 and so on. Find the decade D with the largest number of films and the total number of films in D."
      ]
    },
    {
      "cell_type": "code",
      "metadata": {
        "colab": {
          "base_uri": "https://localhost:8080/"
        },
        "id": "QDYVbrqzTYB5",
        "outputId": "429f9645-a827-46a7-ed68-d4003711649c"
      },
      "source": [
        "q=\"\"\"select y.year as decade_start, y.year + 9 as decade_end,\r\n",
        "       count(*) as num_movies\r\n",
        "       from (select distinct year from Movie) y join\r\n",
        "     Movie m\r\n",
        "     on m.year >= y.year and m.year < y.year + 10\r\n",
        "group by CAST(SUBSTR(y.year,-4) AS Integer)\r\n",
        "order by count(*) desc\r\n",
        "limit 1;\"\"\"\r\n",
        "df=pd.read_sql_query(q,conn)\r\n",
        "print(df)"
      ],
      "execution_count": 5,
      "outputs": [
        {
          "output_type": "stream",
          "text": [
            "  decade_start  decade_end  num_movies\n",
            "0         2008        2017        1126\n"
          ],
          "name": "stdout"
        }
      ]
    },
    {
      "cell_type": "markdown",
      "metadata": {
        "id": "cWY6Jpjv4-jf"
      },
      "source": [
        "####8.Find all the actors that made more movies with Yash Chopra than any other director."
      ]
    },
    {
      "cell_type": "code",
      "metadata": {
        "id": "2NOWu2Ux5L9o",
        "colab": {
          "base_uri": "https://localhost:8080/"
        },
        "outputId": "13208711-b4df-496f-beb4-6b7f15b169b5"
      },
      "source": [
        "q=\"\"\" SELECT * FROM (SELECT pc.Name, COUNT(DISTINCT md.MID) YASH_CHOPRA_Directed FROM Movie m\r\n",
        "      JOIN M_Director md ON md.MID=m.MID\r\n",
        "      JOIN M_cast mc ON (m.MID)=TRIM(mc.MID)\r\n",
        "      JOIN Person pd ON pd.PID=TRIM(md.PID)\r\n",
        "      JOIN Person pc on pc.PID=TRIM(mc.PID)\r\n",
        "      WHERE TRIM(pd.Name)='Yash Chopra'\r\n",
        "      GROUP BY pc.Name) dirY\r\n",
        "      JOIN \r\n",
        "      (SELECT pc.Name, COUNT(DISTINCT md.MID) Non_yash_chopra_Movie FROM Movie m\r\n",
        "      JOIN M_Director md ON md.MID=m.MID\r\n",
        "      JOIN M_cast mc ON (m.MID)=TRIM(mc.MID)\r\n",
        "      JOIN Person pd ON pd.PID=TRIM(md.PID)\r\n",
        "      JOIN Person pc on pc.PID=TRIM(mc.PID)\r\n",
        "      WHERE TRIM(pd.Name)!='Yash Chopra'\r\n",
        "      GROUP BY pc.Name) other\r\n",
        "      ON (dirY.Name)=(other.Name)\r\n",
        "      WHERE (dirY.YASH_CHOPRA_Directed  > other.Non_yash_chopra_Movie)\"\"\"\r\n",
        "df=pd.read_sql_query(q,conn)\r\n",
        "print(df)"
      ],
      "execution_count": 48,
      "outputs": [
        {
          "output_type": "stream",
          "text": [
            "           Name  YASH_CHOPRA_Directed          Name  Non_yash_chopra_Movie\n",
            "0   Ashok Verma                     2   Ashok Verma                      1\n",
            "1         Nazir                     2         Nazir                      1\n",
            "2   Yash Chopra                     2   Yash Chopra                      1\n"
          ],
          "name": "stdout"
        }
      ]
    },
    {
      "cell_type": "markdown",
      "metadata": {
        "id": "jmtJKO-G5Mx9"
      },
      "source": [
        "####10.The Shahrukh number of an actor is the length of the shortest path between the actor and Shahrukh Khan in the \"co-acting\" graph. That is, Shahrukh Khan has Shahrukh number 0; all actors who acted in the same film as Shahrukh have Shahrukh number 1; all actors who acted in the same film as some actor with Shahrukh number 1 have Shahrukh number 2, etc. Return all actors whose Shahrukh number is 2."
      ]
    },
    {
      "cell_type": "code",
      "metadata": {
        "id": "Y0rwOkM35bdZ",
        "colab": {
          "base_uri": "https://localhost:8080/"
        },
        "outputId": "2a2d6cef-d1a3-48bf-813d-09a7ef1ffe00"
      },
      "source": [
        "q=\"\"\"WITH \r\n",
        "    SHAHRUKH_0 AS\r\n",
        "    (\r\n",
        "        SELECT\r\n",
        "            TRIM(P.PID) PID\r\n",
        "        FROM\r\n",
        "            Person P\r\n",
        "        WHERE\r\n",
        "            Trim(P.Name) like '%Shahrukh%'\r\n",
        "    ),\r\n",
        "    SHAHRUKH_1_MOVIES AS\r\n",
        "    (\r\n",
        "        SELECT\r\n",
        "            DISTINCT\r\n",
        "            TRIM(MC.MID) MID,\r\n",
        "            S0.PID\r\n",
        "        FROM\r\n",
        "            M_Cast MC,\r\n",
        "            SHAHRUKH_0 S0\r\n",
        "        WHERE\r\n",
        "            TRIM(MC.PID) = S0.PID\r\n",
        "    ),\r\n",
        "    SHAHRUKH_1_ACTORS AS\r\n",
        "    (\r\n",
        "        SELECT\r\n",
        "            DISTINCT\r\n",
        "            TRIM(MC.PID) PID\r\n",
        "        FROM\r\n",
        "            M_Cast MC,\r\n",
        "            SHAHRUKH_1_MOVIES S1M\r\n",
        "        WHERE\r\n",
        "            TRIM(MC.MID) = S1M.MID AND\r\n",
        "            TRIM(MC.PID) <> S1M.PID\r\n",
        "    ),\r\n",
        "    SHAHRUKH_2_MOVIES AS\r\n",
        "    (\r\n",
        "        SELECT\r\n",
        "            DISTINCT\r\n",
        "            TRIM(MC.MID) MID,\r\n",
        "            S1A.PID\r\n",
        "        FROM\r\n",
        "            M_Cast MC,\r\n",
        "            SHAHRUKH_1_ACTORS S1A\r\n",
        "        WHERE\r\n",
        "            TRIM(MC.PID) = S1A.PID\r\n",
        "    )\r\n",
        "    SELECT\r\n",
        "        DISTINCT\r\n",
        "        TRIM(MC.PID) PID,\r\n",
        "        TRIM(P.Name) ACTOR_NAME\r\n",
        "    FROM\r\n",
        "        Person P,\r\n",
        "        M_Cast MC,\r\n",
        "        SHAHRUKH_2_MOVIES S2M\r\n",
        "    WHERE\r\n",
        "            TRIM(MC.PID) = TRIM(P.PID) AND\r\n",
        "            TRIM(MC.MID) = S2M.MID AND\r\n",
        "            TRIM(MC.PID) <> S2M.PID;\"\"\"\r\n",
        "df=pd.read_sql_query(q,conn)\r\n",
        "print(df)"
      ],
      "execution_count": null,
      "outputs": [
        {
          "output_type": "stream",
          "text": [
            "             PID             ACTOR_NAME\n",
            "0      nm2951768           Freida Pinto\n",
            "1      nm6467532  Caroline Christl Long\n",
            "2      nm6071249          Rajeev Pahuja\n",
            "3      nm3491108      Michelle Santiago\n",
            "4      nm7509518         Jandre le Roux\n",
            "...          ...                    ...\n",
            "15906  nm3099317           Dhruv Shetty\n",
            "15907  nm2371614        Hayley Cleghorn\n",
            "15908  nm2675737        Nirvasha Jithoo\n",
            "15909  nm2370589         Kamal Maharshi\n",
            "15910  nm1866356           Mohini Manik\n",
            "\n",
            "[15911 rows x 2 columns]\n"
          ],
          "name": "stdout"
        }
      ]
    }
  ]
}